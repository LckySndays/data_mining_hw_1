{
 "cells": [
  {
   "cell_type": "markdown",
   "metadata": {},
   "source": [
    "### Student Information\n",
    "Name: 房智宏\n",
    "\n",
    "Student ID: 106062404"
   ]
  },
  {
   "cell_type": "markdown",
   "metadata": {},
   "source": [
    "---"
   ]
  },
  {
   "cell_type": "markdown",
   "metadata": {},
   "source": [
    "### Instructions"
   ]
  },
  {
   "cell_type": "markdown",
   "metadata": {},
   "source": [
    "- Download the dataset provided in this [link](https://archive.ics.uci.edu/ml/datasets/Sentiment+Labelled+Sentences#). The sentiment dataset contains a `sentence` and `score` label. Read what the dataset is about on the link provided before you start exploring it. \n",
    "\n",
    "\n",
    "- Then, you are asked to apply each of the data exploration and data operation techniques learned in the [first lab session](https://goo.gl/Sg4FS1) on the new dataset. You don't need to explain all the procedures as we did in the notebook, but you are expected to provide some **minimal comments** explaining your code. You are also expected to use the same libraries used in the first lab session. You are allowed to use and modify the `helper` functions we provided in the first lab session or create your own. Also, be aware that the helper functions may need modification as you are dealing with a completely different dataset. This part is worth 80% of your grade!\n",
    "\n",
    "\n",
    "- After you have completed the operations, you should attempt the **bonus exercises** provided in the [notebook](https://goo.gl/Sg4FS1) we used for the first lab session. There are six (6) additional exercises; attempt them all, as it is part of your grade (10%). \n",
    "\n",
    "\n",
    "- You are also expected to tidy up your notebook and attempt new data operations that you have learned so far in the Data Mining course. Surprise us! This segment is worth 10% of your grade.\n",
    "\n",
    "\n",
    "- After completing all the above tasks, you are free to remove this header block and submit your assignment following the guide provided in the `README.md` file of the assignment's [repository](https://github.com/omarsar/data_mining_hw_1). "
   ]
  },
  {
   "cell_type": "markdown",
   "metadata": {},
   "source": [
    "## 1. Data Source"
   ]
  },
  {
   "cell_type": "markdown",
   "metadata": {},
   "source": [
    "### 1.1 Import Required Library"
   ]
  },
  {
   "cell_type": "code",
   "execution_count": 1,
   "metadata": {
    "collapsed": true
   },
   "outputs": [],
   "source": [
    "# Necessary for when working with external scripts\n",
    "%load_ext autoreload\n",
    "%autoreload 2"
   ]
  },
  {
   "cell_type": "code",
   "execution_count": 2,
   "metadata": {
    "collapsed": true
   },
   "outputs": [],
   "source": [
    "# Importing the required library\n",
    "import pandas as pd\n",
    "import numpy as np\n",
    "import matplotlib.pyplot as plt\n",
    "import nltk\n",
    "import plotly.plotly as py\n",
    "import plotly.graph_objs as go\n",
    "from sklearn.feature_extraction.text import CountVectorizer\n",
    "from sklearn.decomposition import PCA\n",
    "from sklearn import preprocessing, metrics, decomposition, pipeline, dummy\n",
    "\n",
    "# Plotly API Credential\n",
    "py.sign_in('DataMiningNTHU', 'ch8eNTh6fUr5JwagjUcd')\n",
    "\n",
    "# Disable Warning to tidy up\n",
    "import warnings\n",
    "warnings.filterwarnings('ignore')"
   ]
  },
  {
   "cell_type": "markdown",
   "metadata": {},
   "source": [
    "### 1.2 Load Dataset from Files"
   ]
  },
  {
   "cell_type": "code",
   "execution_count": 3,
   "metadata": {},
   "outputs": [
    {
     "data": {
      "text/plain": [
       "748"
      ]
     },
     "execution_count": 3,
     "metadata": {},
     "output_type": "execute_result"
    }
   ],
   "source": [
    "# Load the dataset from the files (Converted directly into Pandas Dataframe)\n",
    "df1 = pd.read_csv('dataset/amazon_cells_labelled.txt', '\\t', names = [\"Sentence\", \"Score\"])\n",
    "df2 = pd.read_csv('dataset/imdb_labelled.txt', '\\t', names = [\"Sentence\", \"Score\"])\n",
    "df3 = pd.read_csv('dataset/yelp_labelled.txt', '\\t', names = [\"Sentence\", \"Score\"])\n",
    "\n",
    "# Checking Total Record (Each dataset should have exact 1000 record)\n",
    "len(df2)"
   ]
  },
  {
   "cell_type": "code",
   "execution_count": 4,
   "metadata": {},
   "outputs": [
    {
     "data": {
      "text/plain": [
       "1000"
      ]
     },
     "execution_count": 4,
     "metadata": {},
     "output_type": "execute_result"
    }
   ],
   "source": [
    "# C Engine failed to parse some of the data from imdb_labelled.txt (Bad Data)\n",
    "# Fallback to Python Parser (Quick Fix)\n",
    "df2 = pd.read_csv('dataset/imdb_labelled.txt', ' \\t', names = [\"Sentence\", \"Score\"], engine='python', encoding=None)\n",
    "len(df2)"
   ]
  },
  {
   "cell_type": "markdown",
   "metadata": {},
   "source": [
    "### 1.3 Verify if data parsed correctly"
   ]
  },
  {
   "cell_type": "code",
   "execution_count": 5,
   "metadata": {},
   "outputs": [
    {
     "data": {
      "text/html": [
       "<div>\n",
       "<table border=\"1\" class=\"dataframe\">\n",
       "  <thead>\n",
       "    <tr style=\"text-align: right;\">\n",
       "      <th></th>\n",
       "      <th>Sentence</th>\n",
       "      <th>Score</th>\n",
       "    </tr>\n",
       "  </thead>\n",
       "  <tbody>\n",
       "    <tr>\n",
       "      <th>0</th>\n",
       "      <td>So there is no way for me to plug it in here i...</td>\n",
       "      <td>0</td>\n",
       "    </tr>\n",
       "    <tr>\n",
       "      <th>1</th>\n",
       "      <td>Good case, Excellent value.</td>\n",
       "      <td>1</td>\n",
       "    </tr>\n",
       "    <tr>\n",
       "      <th>2</th>\n",
       "      <td>Great for the jawbone.</td>\n",
       "      <td>1</td>\n",
       "    </tr>\n",
       "    <tr>\n",
       "      <th>3</th>\n",
       "      <td>Tied to charger for conversations lasting more...</td>\n",
       "      <td>0</td>\n",
       "    </tr>\n",
       "    <tr>\n",
       "      <th>4</th>\n",
       "      <td>The mic is great.</td>\n",
       "      <td>1</td>\n",
       "    </tr>\n",
       "  </tbody>\n",
       "</table>\n",
       "</div>"
      ],
      "text/plain": [
       "                                            Sentence  Score\n",
       "0  So there is no way for me to plug it in here i...      0\n",
       "1                        Good case, Excellent value.      1\n",
       "2                             Great for the jawbone.      1\n",
       "3  Tied to charger for conversations lasting more...      0\n",
       "4                                  The mic is great.      1"
      ]
     },
     "execution_count": 5,
     "metadata": {},
     "output_type": "execute_result"
    }
   ],
   "source": [
    "# Check if the data was read correctly\n",
    "df1[:5]\n",
    "#df2[:5]\n",
    "#df3[:5]"
   ]
  },
  {
   "cell_type": "markdown",
   "metadata": {},
   "source": [
    "## 1.4 Spot Bad Formatted Data\n",
    "#### We may need to fix this format later on if it cause us some problem"
   ]
  },
  {
   "cell_type": "code",
   "execution_count": 6,
   "metadata": {},
   "outputs": [
    {
     "data": {
      "text/html": [
       "<div>\n",
       "<table border=\"1\" class=\"dataframe\">\n",
       "  <thead>\n",
       "    <tr style=\"text-align: right;\">\n",
       "      <th></th>\n",
       "      <th>Sentence</th>\n",
       "      <th>Score</th>\n",
       "    </tr>\n",
       "  </thead>\n",
       "  <tbody>\n",
       "    <tr>\n",
       "      <th>322</th>\n",
       "      <td>\" I love it.</td>\n",
       "      <td>1</td>\n",
       "    </tr>\n",
       "  </tbody>\n",
       "</table>\n",
       "</div>"
      ],
      "text/plain": [
       "          Sentence  Score\n",
       "322  \" I love it.       1"
      ]
     },
     "execution_count": 6,
     "metadata": {},
     "output_type": "execute_result"
    }
   ],
   "source": [
    "# Sentence with prefix ([\" ])\n",
    "df2[322:323]"
   ]
  },
  {
   "cell_type": "code",
   "execution_count": 7,
   "metadata": {},
   "outputs": [
    {
     "data": {
      "text/html": [
       "<div>\n",
       "<table border=\"1\" class=\"dataframe\">\n",
       "  <thead>\n",
       "    <tr style=\"text-align: right;\">\n",
       "      <th></th>\n",
       "      <th>Sentence</th>\n",
       "      <th>Score</th>\n",
       "    </tr>\n",
       "  </thead>\n",
       "  <tbody>\n",
       "    <tr>\n",
       "      <th>732</th>\n",
       "      <td>) a happy, wonderful, feel good ending!</td>\n",
       "      <td>1</td>\n",
       "    </tr>\n",
       "  </tbody>\n",
       "</table>\n",
       "</div>"
      ],
      "text/plain": [
       "                                     Sentence  Score\n",
       "732  ) a happy, wonderful, feel good ending!       1"
      ]
     },
     "execution_count": 7,
     "metadata": {},
     "output_type": "execute_result"
    }
   ],
   "source": [
    "# Sentence with prefix ([) ])\n",
    "df2[732:733]"
   ]
  },
  {
   "cell_type": "markdown",
   "metadata": {},
   "source": [
    "<hr>"
   ]
  },
  {
   "cell_type": "markdown",
   "metadata": {},
   "source": [
    "** Exercise 0:** Experiment with other querying techniques using pandas dataframes. Refer to the their documentation for more information. "
   ]
  },
  {
   "cell_type": "code",
   "execution_count": 8,
   "metadata": {},
   "outputs": [
    {
     "data": {
      "text/html": [
       "<div>\n",
       "<table border=\"1\" class=\"dataframe\">\n",
       "  <thead>\n",
       "    <tr style=\"text-align: right;\">\n",
       "      <th></th>\n",
       "      <th>Sentence</th>\n",
       "      <th>Score</th>\n",
       "    </tr>\n",
       "  </thead>\n",
       "  <tbody>\n",
       "    <tr>\n",
       "      <th>0</th>\n",
       "      <td>So there is no way for me to plug it in here i...</td>\n",
       "      <td>0</td>\n",
       "    </tr>\n",
       "    <tr>\n",
       "      <th>3</th>\n",
       "      <td>Tied to charger for conversations lasting more...</td>\n",
       "      <td>0</td>\n",
       "    </tr>\n",
       "    <tr>\n",
       "      <th>5</th>\n",
       "      <td>I have to jiggle the plug to get it to line up...</td>\n",
       "      <td>0</td>\n",
       "    </tr>\n",
       "    <tr>\n",
       "      <th>6</th>\n",
       "      <td>If you have several dozen or several hundred c...</td>\n",
       "      <td>0</td>\n",
       "    </tr>\n",
       "    <tr>\n",
       "      <th>8</th>\n",
       "      <td>Needless to say, I wasted my money.</td>\n",
       "      <td>0</td>\n",
       "    </tr>\n",
       "  </tbody>\n",
       "</table>\n",
       "</div>"
      ],
      "text/plain": [
       "                                            Sentence  Score\n",
       "0  So there is no way for me to plug it in here i...      0\n",
       "3  Tied to charger for conversations lasting more...      0\n",
       "5  I have to jiggle the plug to get it to line up...      0\n",
       "6  If you have several dozen or several hundred c...      0\n",
       "8                Needless to say, I wasted my money.      0"
      ]
     },
     "execution_count": 8,
     "metadata": {},
     "output_type": "execute_result"
    }
   ],
   "source": [
    "# Test query DataFrame#1 with Score value equal to 0 (query with expression)\n",
    "# https://pandas.pydata.org/pandas-docs/stable/generated/pandas.DataFrame.query.html\n",
    "df1.query('Score == 0')[0:5]\n",
    "# Equivalence with df[df.Score==0][0:5]"
   ]
  },
  {
   "cell_type": "markdown",
   "metadata": {},
   "source": [
    "<hr>"
   ]
  },
  {
   "cell_type": "markdown",
   "metadata": {},
   "source": [
    "## 2.Data Preparation\n",
    "#### Since we already convert the data directly into pandas dataframe earlier, the data is already well prepared for us. No need to take another significant action to prepare it. We can just try to get familiar with the data\n"
   ]
  },
  {
   "cell_type": "code",
   "execution_count": 9,
   "metadata": {},
   "outputs": [
    {
     "data": {
      "text/html": [
       "<div>\n",
       "<table border=\"1\" class=\"dataframe\">\n",
       "  <thead>\n",
       "    <tr style=\"text-align: right;\">\n",
       "      <th></th>\n",
       "      <th>Sentence</th>\n",
       "      <th>Score</th>\n",
       "    </tr>\n",
       "  </thead>\n",
       "  <tbody>\n",
       "    <tr>\n",
       "      <th>0</th>\n",
       "      <td>Wow... Loved this place.</td>\n",
       "      <td>1</td>\n",
       "    </tr>\n",
       "    <tr>\n",
       "      <th>1</th>\n",
       "      <td>Crust is not good.</td>\n",
       "      <td>0</td>\n",
       "    </tr>\n",
       "    <tr>\n",
       "      <th>2</th>\n",
       "      <td>Not tasty and the texture was just nasty.</td>\n",
       "      <td>0</td>\n",
       "    </tr>\n",
       "    <tr>\n",
       "      <th>3</th>\n",
       "      <td>Stopped by during the late May bank holiday of...</td>\n",
       "      <td>1</td>\n",
       "    </tr>\n",
       "    <tr>\n",
       "      <th>4</th>\n",
       "      <td>The selection on the menu was great and so wer...</td>\n",
       "      <td>1</td>\n",
       "    </tr>\n",
       "    <tr>\n",
       "      <th>5</th>\n",
       "      <td>Now I am getting angry and I want my damn pho.</td>\n",
       "      <td>0</td>\n",
       "    </tr>\n",
       "    <tr>\n",
       "      <th>6</th>\n",
       "      <td>Honeslty it didn't taste THAT fresh.)</td>\n",
       "      <td>0</td>\n",
       "    </tr>\n",
       "    <tr>\n",
       "      <th>7</th>\n",
       "      <td>The potatoes were like rubber and you could te...</td>\n",
       "      <td>0</td>\n",
       "    </tr>\n",
       "    <tr>\n",
       "      <th>8</th>\n",
       "      <td>The fries were great too.</td>\n",
       "      <td>1</td>\n",
       "    </tr>\n",
       "    <tr>\n",
       "      <th>9</th>\n",
       "      <td>A great touch.</td>\n",
       "      <td>1</td>\n",
       "    </tr>\n",
       "  </tbody>\n",
       "</table>\n",
       "</div>"
      ],
      "text/plain": [
       "                                            Sentence  Score\n",
       "0                           Wow... Loved this place.      1\n",
       "1                                 Crust is not good.      0\n",
       "2          Not tasty and the texture was just nasty.      0\n",
       "3  Stopped by during the late May bank holiday of...      1\n",
       "4  The selection on the menu was great and so wer...      1\n",
       "5     Now I am getting angry and I want my damn pho.      0\n",
       "6              Honeslty it didn't taste THAT fresh.)      0\n",
       "7  The potatoes were like rubber and you could te...      0\n",
       "8                          The fries were great too.      1\n",
       "9                                     A great touch.      1"
      ]
     },
     "execution_count": 9,
     "metadata": {},
     "output_type": "execute_result"
    }
   ],
   "source": [
    "# First 10 data of DataFrame3\n",
    "df3[0:10][[\"Sentence\", \"Score\"]]"
   ]
  },
  {
   "cell_type": "code",
   "execution_count": 10,
   "metadata": {},
   "outputs": [
    {
     "data": {
      "text/html": [
       "<div>\n",
       "<table border=\"1\" class=\"dataframe\">\n",
       "  <thead>\n",
       "    <tr style=\"text-align: right;\">\n",
       "      <th></th>\n",
       "      <th>Sentence</th>\n",
       "      <th>Score</th>\n",
       "    </tr>\n",
       "  </thead>\n",
       "  <tbody>\n",
       "    <tr>\n",
       "      <th>989</th>\n",
       "      <td>:) Anyway, the plot flowed smoothly and the ma...</td>\n",
       "      <td>1</td>\n",
       "    </tr>\n",
       "    <tr>\n",
       "      <th>990</th>\n",
       "      <td>The opening sequence of this gem is a classic,...</td>\n",
       "      <td>1</td>\n",
       "    </tr>\n",
       "    <tr>\n",
       "      <th>991</th>\n",
       "      <td>Fans of the genre will be in heaven.</td>\n",
       "      <td>1</td>\n",
       "    </tr>\n",
       "    <tr>\n",
       "      <th>992</th>\n",
       "      <td>Lange had become a great actress.</td>\n",
       "      <td>1</td>\n",
       "    </tr>\n",
       "    <tr>\n",
       "      <th>993</th>\n",
       "      <td>It looked like a wonderful story.</td>\n",
       "      <td>1</td>\n",
       "    </tr>\n",
       "    <tr>\n",
       "      <th>994</th>\n",
       "      <td>I never walked out of a movie faster.</td>\n",
       "      <td>0</td>\n",
       "    </tr>\n",
       "    <tr>\n",
       "      <th>995</th>\n",
       "      <td>I just got bored watching Jessice Lange take h...</td>\n",
       "      <td>0</td>\n",
       "    </tr>\n",
       "    <tr>\n",
       "      <th>996</th>\n",
       "      <td>Unfortunately, any virtue in this film's produ...</td>\n",
       "      <td>0</td>\n",
       "    </tr>\n",
       "    <tr>\n",
       "      <th>997</th>\n",
       "      <td>In a word, it is embarrassing.</td>\n",
       "      <td>0</td>\n",
       "    </tr>\n",
       "    <tr>\n",
       "      <th>998</th>\n",
       "      <td>Exceptionally bad!</td>\n",
       "      <td>0</td>\n",
       "    </tr>\n",
       "  </tbody>\n",
       "</table>\n",
       "</div>"
      ],
      "text/plain": [
       "                                              Sentence  Score\n",
       "989  :) Anyway, the plot flowed smoothly and the ma...      1\n",
       "990  The opening sequence of this gem is a classic,...      1\n",
       "991              Fans of the genre will be in heaven.       1\n",
       "992                 Lange had become a great actress.       1\n",
       "993                 It looked like a wonderful story.       1\n",
       "994             I never walked out of a movie faster.       0\n",
       "995  I just got bored watching Jessice Lange take h...      0\n",
       "996  Unfortunately, any virtue in this film's produ...      0\n",
       "997                    In a word, it is embarrassing.       0\n",
       "998                                Exceptionally bad!       0"
      ]
     },
     "execution_count": 10,
     "metadata": {},
     "output_type": "execute_result"
    }
   ],
   "source": [
    "# Last 10 data of DataFrame2\n",
    "df2[-11:-1]"
   ]
  },
  {
   "cell_type": "code",
   "execution_count": 11,
   "metadata": {},
   "outputs": [
    {
     "data": {
      "text/html": [
       "<div>\n",
       "<table border=\"1\" class=\"dataframe\">\n",
       "  <thead>\n",
       "    <tr style=\"text-align: right;\">\n",
       "      <th></th>\n",
       "      <th>Sentence</th>\n",
       "      <th>Score</th>\n",
       "    </tr>\n",
       "  </thead>\n",
       "  <tbody>\n",
       "    <tr>\n",
       "      <th>0</th>\n",
       "      <td>So there is no way for me to plug it in here i...</td>\n",
       "      <td>0</td>\n",
       "    </tr>\n",
       "    <tr>\n",
       "      <th>10</th>\n",
       "      <td>And the sound quality is great.</td>\n",
       "      <td>1</td>\n",
       "    </tr>\n",
       "    <tr>\n",
       "      <th>20</th>\n",
       "      <td>I went on Motorola's website and followed all ...</td>\n",
       "      <td>0</td>\n",
       "    </tr>\n",
       "    <tr>\n",
       "      <th>30</th>\n",
       "      <td>This is a simple little phone to use, but the ...</td>\n",
       "      <td>0</td>\n",
       "    </tr>\n",
       "    <tr>\n",
       "      <th>40</th>\n",
       "      <td>It has a great camera thats 2MP, and the pics ...</td>\n",
       "      <td>1</td>\n",
       "    </tr>\n",
       "    <tr>\n",
       "      <th>50</th>\n",
       "      <td>Not loud enough and doesn't turn on like it sh...</td>\n",
       "      <td>0</td>\n",
       "    </tr>\n",
       "    <tr>\n",
       "      <th>60</th>\n",
       "      <td>Essentially you can forget Microsoft's tech su...</td>\n",
       "      <td>0</td>\n",
       "    </tr>\n",
       "    <tr>\n",
       "      <th>70</th>\n",
       "      <td>Mic Doesn't work.</td>\n",
       "      <td>0</td>\n",
       "    </tr>\n",
       "    <tr>\n",
       "      <th>80</th>\n",
       "      <td>I wear it everyday and it holds up very well.</td>\n",
       "      <td>1</td>\n",
       "    </tr>\n",
       "    <tr>\n",
       "      <th>90</th>\n",
       "      <td>For a product that costs as much as this one d...</td>\n",
       "      <td>0</td>\n",
       "    </tr>\n",
       "  </tbody>\n",
       "</table>\n",
       "</div>"
      ],
      "text/plain": [
       "                                             Sentence  Score\n",
       "0   So there is no way for me to plug it in here i...      0\n",
       "10                    And the sound quality is great.      1\n",
       "20  I went on Motorola's website and followed all ...      0\n",
       "30  This is a simple little phone to use, but the ...      0\n",
       "40  It has a great camera thats 2MP, and the pics ...      1\n",
       "50  Not loud enough and doesn't turn on like it sh...      0\n",
       "60  Essentially you can forget Microsoft's tech su...      0\n",
       "70                                  Mic Doesn't work.      0\n",
       "80      I wear it everyday and it holds up very well.      1\n",
       "90  For a product that costs as much as this one d...      0"
      ]
     },
     "execution_count": 11,
     "metadata": {},
     "output_type": "execute_result"
    }
   ],
   "source": [
    "# Query every 10th record of DataFrame1 \n",
    "df1.iloc[::10, :][0:10]"
   ]
  },
  {
   "cell_type": "markdown",
   "metadata": {},
   "source": [
    "#### For Dimensionality Reduction & Discretization and Binarization Demonstration, we add new feature here called datasource"
   ]
  },
  {
   "cell_type": "code",
   "execution_count": 12,
   "metadata": {},
   "outputs": [
    {
     "data": {
      "text/html": [
       "<div>\n",
       "<table border=\"1\" class=\"dataframe\">\n",
       "  <thead>\n",
       "    <tr style=\"text-align: right;\">\n",
       "      <th></th>\n",
       "      <th>Sentence</th>\n",
       "      <th>Score</th>\n",
       "      <th>datasource</th>\n",
       "    </tr>\n",
       "  </thead>\n",
       "  <tbody>\n",
       "    <tr>\n",
       "      <th>0</th>\n",
       "      <td>So there is no way for me to plug it in here i...</td>\n",
       "      <td>0</td>\n",
       "      <td>amazon</td>\n",
       "    </tr>\n",
       "    <tr>\n",
       "      <th>1</th>\n",
       "      <td>Good case, Excellent value.</td>\n",
       "      <td>1</td>\n",
       "      <td>amazon</td>\n",
       "    </tr>\n",
       "    <tr>\n",
       "      <th>2</th>\n",
       "      <td>Great for the jawbone.</td>\n",
       "      <td>1</td>\n",
       "      <td>amazon</td>\n",
       "    </tr>\n",
       "    <tr>\n",
       "      <th>3</th>\n",
       "      <td>Tied to charger for conversations lasting more...</td>\n",
       "      <td>0</td>\n",
       "      <td>amazon</td>\n",
       "    </tr>\n",
       "    <tr>\n",
       "      <th>4</th>\n",
       "      <td>The mic is great.</td>\n",
       "      <td>1</td>\n",
       "      <td>amazon</td>\n",
       "    </tr>\n",
       "  </tbody>\n",
       "</table>\n",
       "</div>"
      ],
      "text/plain": [
       "                                            Sentence  Score datasource\n",
       "0  So there is no way for me to plug it in here i...      0     amazon\n",
       "1                        Good case, Excellent value.      1     amazon\n",
       "2                             Great for the jawbone.      1     amazon\n",
       "3  Tied to charger for conversations lasting more...      0     amazon\n",
       "4                                  The mic is great.      1     amazon"
      ]
     },
     "execution_count": 12,
     "metadata": {},
     "output_type": "execute_result"
    }
   ],
   "source": [
    "for row in df1:\n",
    "    df1['datasource'] = \"amazon\"\n",
    "for row in df2:\n",
    "    df2['datasource'] = \"imdb\"\n",
    "for row in df3:\n",
    "    df3['datasource'] = \"yelp\"\n",
    "    \n",
    "df1[0:5]"
   ]
  },
  {
   "cell_type": "markdown",
   "metadata": {},
   "source": [
    "## 3. Check Missing Value\n",
    "\n",
    "#### For this step, I divide the task into 2 main task as following:\n",
    "1. We first create new testing data frame to check whether our function is working properly as expected. \n",
    "2. After we are making sure that the function is working properly, we then apply it into the original data frame."
   ]
  },
  {
   "cell_type": "markdown",
   "metadata": {},
   "source": [
    "### 3.1. Testing function against Testing DataFrame\n",
    "#### Notice that \"empty\" and \"Null\" are different"
   ]
  },
  {
   "cell_type": "code",
   "execution_count": 13,
   "metadata": {
    "collapsed": true
   },
   "outputs": [],
   "source": [
    "# Create New Testing Data Frame\n",
    "MissingDF = pd.DataFrame([['EmptyValue', ''], ['NullValue', np.nan]], columns=['Sentence', 'Score'])"
   ]
  },
  {
   "cell_type": "code",
   "execution_count": 14,
   "metadata": {},
   "outputs": [
    {
     "data": {
      "text/html": [
       "<div>\n",
       "<table border=\"1\" class=\"dataframe\">\n",
       "  <thead>\n",
       "    <tr style=\"text-align: right;\">\n",
       "      <th></th>\n",
       "      <th>Sentence</th>\n",
       "      <th>Score</th>\n",
       "    </tr>\n",
       "  </thead>\n",
       "  <tbody>\n",
       "    <tr>\n",
       "      <th>0</th>\n",
       "      <td>False</td>\n",
       "      <td>False</td>\n",
       "    </tr>\n",
       "    <tr>\n",
       "      <th>1</th>\n",
       "      <td>False</td>\n",
       "      <td>True</td>\n",
       "    </tr>\n",
       "  </tbody>\n",
       "</table>\n",
       "</div>"
      ],
      "text/plain": [
       "  Sentence  Score\n",
       "0    False  False\n",
       "1    False   True"
      ]
     },
     "execution_count": 14,
     "metadata": {},
     "output_type": "execute_result"
    }
   ],
   "source": [
    "# Checking for Null Value\n",
    "pd.isnull(MissingDF)"
   ]
  },
  {
   "cell_type": "code",
   "execution_count": 15,
   "metadata": {},
   "outputs": [
    {
     "data": {
      "text/html": [
       "<div>\n",
       "<table border=\"1\" class=\"dataframe\">\n",
       "  <thead>\n",
       "    <tr style=\"text-align: right;\">\n",
       "      <th></th>\n",
       "      <th>Sentence</th>\n",
       "      <th>Score</th>\n",
       "    </tr>\n",
       "  </thead>\n",
       "  <tbody>\n",
       "    <tr>\n",
       "      <th>0</th>\n",
       "      <td>EmptyValue</td>\n",
       "      <td></td>\n",
       "    </tr>\n",
       "  </tbody>\n",
       "</table>\n",
       "</div>"
      ],
      "text/plain": [
       "     Sentence Score\n",
       "0  EmptyValue      "
      ]
     },
     "execution_count": 15,
     "metadata": {},
     "output_type": "execute_result"
    }
   ],
   "source": [
    "# Checking for Empty Value\n",
    "MissingDF.query('Score == \"\"')"
   ]
  },
  {
   "cell_type": "markdown",
   "metadata": {},
   "source": [
    "<hr>"
   ]
  },
  {
   "cell_type": "markdown",
   "metadata": {},
   "source": [
    "**Exercise 1:** Code for how to calculate the missing values for every record instead of every column. Hint `axis` parameter. Check the documentation for more information."
   ]
  },
  {
   "cell_type": "code",
   "execution_count": 16,
   "metadata": {
    "collapsed": true
   },
   "outputs": [],
   "source": [
    "# Also print out which line/row number where the missing value is located. [BUGGED]\n",
    "def check_missing_values2(table):\n",
    "    \"\"\" functions that check and verifies if there are missing values in dataframe \"\"\"\n",
    "    row = 0\n",
    "    column = 0\n",
    "    counter = 0\n",
    "    for element in table:\n",
    "        column+=1\n",
    "        \n",
    "        if element == True:\n",
    "            if column == 1:\n",
    "                print(\"Line \" + str(row) + \" Sentence=>\" + str(element))\n",
    "            else:\n",
    "                print(\"Line \" + str(row) + \" Score=>\" + str(element))\n",
    "            counter+=1\n",
    "        \n",
    "        if column==2:\n",
    "            # This Row Value below will back to 0 in the next loop (Not Sure why)\n",
    "            # Already check it in Java, and there is no problem\n",
    "            row+=1\n",
    "            column=0\n",
    "            \n",
    "    return (\"Missing Value Counter :\" + str(counter))"
   ]
  },
  {
   "cell_type": "code",
   "execution_count": 17,
   "metadata": {},
   "outputs": [
    {
     "name": "stdout",
     "output_type": "stream",
     "text": [
      "Line 0 Score=>True\n"
     ]
    },
    {
     "data": {
      "text/plain": [
       "0    Missing Value Counter :0\n",
       "1    Missing Value Counter :1\n",
       "dtype: object"
      ]
     },
     "execution_count": 17,
     "metadata": {},
     "output_type": "execute_result"
    }
   ],
   "source": [
    "pd.isnull(MissingDF).apply(lambda x: check_missing_values2(x), axis=1)"
   ]
  },
  {
   "cell_type": "markdown",
   "metadata": {},
   "source": [
    "#### Note that the correct function should return \"Line 1 Score=>True\" instead"
   ]
  },
  {
   "cell_type": "markdown",
   "metadata": {},
   "source": [
    "<hr>"
   ]
  },
  {
   "cell_type": "markdown",
   "metadata": {},
   "source": [
    "### 3.2. Applying the function against Original Dataframe\n",
    "#### To simplify the whole process, we merge the 3 original dataframe into 1 before processing it.\n"
   ]
  },
  {
   "cell_type": "code",
   "execution_count": 18,
   "metadata": {},
   "outputs": [
    {
     "data": {
      "text/plain": [
       "3000"
      ]
     },
     "execution_count": 18,
     "metadata": {},
     "output_type": "execute_result"
    }
   ],
   "source": [
    "# Merge Original Data Frame\n",
    "MergeDF = pd.concat([df1, df2, df3])\n",
    "len(MergeDF)"
   ]
  },
  {
   "cell_type": "code",
   "execution_count": 19,
   "metadata": {
    "collapsed": true
   },
   "outputs": [],
   "source": [
    "# Original function from news_data_mining.ipynb\n",
    "def check_missing_values(row):\n",
    "    \"\"\" functions that check and verifies if there are missing values in dataframe \"\"\"\n",
    "    counter = 0\n",
    "    for element in row:\n",
    "        if element == True:\n",
    "            counter+=1\n",
    "    return (\"The amoung of missing records is: \", counter)"
   ]
  },
  {
   "cell_type": "code",
   "execution_count": 20,
   "metadata": {},
   "outputs": [
    {
     "data": {
      "text/plain": [
       "Sentence      (The amoung of missing records is: , 0)\n",
       "Score         (The amoung of missing records is: , 0)\n",
       "datasource    (The amoung of missing records is: , 0)\n",
       "dtype: object"
      ]
     },
     "execution_count": 20,
     "metadata": {},
     "output_type": "execute_result"
    }
   ],
   "source": [
    "# Checking for Null Value\n",
    "pd.isnull(MergeDF).apply(lambda x: check_missing_values(x))"
   ]
  },
  {
   "cell_type": "code",
   "execution_count": 21,
   "metadata": {},
   "outputs": [
    {
     "data": {
      "text/html": [
       "<div>\n",
       "<table border=\"1\" class=\"dataframe\">\n",
       "  <thead>\n",
       "    <tr style=\"text-align: right;\">\n",
       "      <th></th>\n",
       "      <th>Sentence</th>\n",
       "      <th>Score</th>\n",
       "      <th>datasource</th>\n",
       "    </tr>\n",
       "  </thead>\n",
       "  <tbody>\n",
       "  </tbody>\n",
       "</table>\n",
       "</div>"
      ],
      "text/plain": [
       "Empty DataFrame\n",
       "Columns: [Sentence, Score, datasource]\n",
       "Index: []"
      ]
     },
     "execution_count": 21,
     "metadata": {},
     "output_type": "execute_result"
    }
   ],
   "source": [
    "# Checking for Empty Value of Score\n",
    "MergeDF.query('Score == \"\"')"
   ]
  },
  {
   "cell_type": "code",
   "execution_count": 22,
   "metadata": {},
   "outputs": [
    {
     "data": {
      "text/html": [
       "<div>\n",
       "<table border=\"1\" class=\"dataframe\">\n",
       "  <thead>\n",
       "    <tr style=\"text-align: right;\">\n",
       "      <th></th>\n",
       "      <th>Sentence</th>\n",
       "      <th>Score</th>\n",
       "      <th>datasource</th>\n",
       "    </tr>\n",
       "  </thead>\n",
       "  <tbody>\n",
       "  </tbody>\n",
       "</table>\n",
       "</div>"
      ],
      "text/plain": [
       "Empty DataFrame\n",
       "Columns: [Sentence, Score, datasource]\n",
       "Index: []"
      ]
     },
     "execution_count": 22,
     "metadata": {},
     "output_type": "execute_result"
    }
   ],
   "source": [
    "# Checking for Empty Value of Sentence\n",
    "MergeDF.query('Sentence == \"\"')"
   ]
  },
  {
   "cell_type": "code",
   "execution_count": 23,
   "metadata": {
    "collapsed": true
   },
   "outputs": [],
   "source": [
    "# At this moment, No Missing Value detected\n",
    "# In case if there is missing value, we may need to process it further\n",
    "# Or for simplicity, we may remove it directly from the DataFrame\n",
    "MergeDF.dropna(inplace=True)"
   ]
  },
  {
   "cell_type": "markdown",
   "metadata": {},
   "source": [
    "<hr>"
   ]
  },
  {
   "cell_type": "markdown",
   "metadata": {},
   "source": [
    "## 4. Remove Duplicate\n",
    "#### After merging all the dataset, we may find out that some of the record are duplicated, so we may need to remove it."
   ]
  },
  {
   "cell_type": "code",
   "execution_count": 24,
   "metadata": {},
   "outputs": [
    {
     "data": {
      "text/plain": [
       "17"
      ]
     },
     "execution_count": 24,
     "metadata": {},
     "output_type": "execute_result"
    }
   ],
   "source": [
    "# Checking the sum of the duplicated record\n",
    "sum(MergeDF.duplicated())"
   ]
  },
  {
   "cell_type": "code",
   "execution_count": 25,
   "metadata": {},
   "outputs": [
    {
     "data": {
      "text/plain": [
       "3000"
      ]
     },
     "execution_count": 25,
     "metadata": {},
     "output_type": "execute_result"
    }
   ],
   "source": [
    "# The sum of record before removing duplicate\n",
    "len(MergeDF)"
   ]
  },
  {
   "cell_type": "code",
   "execution_count": 26,
   "metadata": {
    "collapsed": true
   },
   "outputs": [],
   "source": [
    "# Removing just duplicate but preserving a copy of it\n",
    "MergeDF.drop_duplicates(keep=\"first\", inplace=True)"
   ]
  },
  {
   "cell_type": "code",
   "execution_count": 27,
   "metadata": {},
   "outputs": [
    {
     "data": {
      "text/plain": [
       "2983"
      ]
     },
     "execution_count": 27,
     "metadata": {},
     "output_type": "execute_result"
    }
   ],
   "source": [
    "# The sum of record after removing duplicate\n",
    "len(MergeDF)"
   ]
  },
  {
   "cell_type": "markdown",
   "metadata": {},
   "source": [
    "## 5. Data Preprocessing"
   ]
  },
  {
   "cell_type": "markdown",
   "metadata": {},
   "source": [
    "### 5.1 Sampling & Visualizing\n",
    "#### If our dataframe contains huge amount of records, it is better to sample it first before we process it, especially if we are using low-end computer"
   ]
  },
  {
   "cell_type": "code",
   "execution_count": 28,
   "metadata": {},
   "outputs": [
    {
     "data": {
      "text/plain": [
       "746"
      ]
     },
     "execution_count": 28,
     "metadata": {},
     "output_type": "execute_result"
    }
   ],
   "source": [
    "# Test Sampling with just 25% of the data randomly\n",
    "SampleDF = MergeDF.sample(frac=0.25, replace=False)\n",
    "len (SampleDF)"
   ]
  },
  {
   "cell_type": "markdown",
   "metadata": {},
   "source": [
    "#### Exercise 2: We can also do a side by side comparison of the distribution between the two datasets, but maybe you can try that as an excerise. Look at the Plotly documents for tons of examples and ways to visualizing groups bar charts.\n",
    "\n",
    "I must also make mention that there are other libraries for visualizing, but we are going to focus on that in the later sections. For now, we just show you what are the ways to sample and to verify the distributions of your samplings. I can't resits it, but actually, there is an easier to generate the chart we generated above using a library called matplotlib. With matplotlib, things are faster and compatability-wise it may just be the best visualization library for visualizing content extracted from dataframes. Let's quickly take a loot at the magic of matplotlib below.\n"
   ]
  },
  {
   "cell_type": "code",
   "execution_count": 29,
   "metadata": {},
   "outputs": [
    {
     "data": {
      "image/png": "[encoded data removed]",
      "text/plain": [
       "<matplotlib.figure.Figure at 0x7f73c039ec88>"
      ]
     },
     "metadata": {},
     "output_type": "display_data"
    }
   ],
   "source": [
    "# Test matplotlib Bar for the sum record of each dataframe\n",
    "x = np.arange(5)\n",
    "recordCount = [len(df1), len(df2), len(df3), len(MergeDF), len(SampleDF)]\n",
    "fig, ax = plt.subplots()\n",
    "plt.bar(x, recordCount)\n",
    "plt.xticks(x, ('Amazon', 'IMDB', 'YELP', 'DFMerge', 'DFSample'))\n",
    "plt.xlabel('DataFrames')\n",
    "plt.ylabel('Total Records')\n",
    "plt.show()"
   ]
  },
  {
   "cell_type": "code",
   "execution_count": 30,
   "metadata": {
    "collapsed": true
   },
   "outputs": [],
   "source": [
    "MergeOne = MergeDF.query('Score == 1').count().Score\n",
    "MergeZero = MergeDF.query('Score == 0').count().Score\n",
    "SampleOne = SampleDF.query('Score == 1').count().Score\n",
    "SampleZero = SampleDF.query('Score == 0').count().Score\n",
    "\n",
    "MergeMeanZero = MergeDF.query('Score == 0').mean().Score\n",
    "MergeMeanOne = MergeDF.query('Score == 1').mean().Score\n",
    "SampleMeanZero = SampleDF.query('Score == 0').mean().Score\n",
    "SampleMeanOne = SampleDF.query('Score == 1').mean().Score\n",
    "\n",
    "MergeStdZero = MergeDF.query('Score == 0').std().Score\n",
    "MergeStdOne = MergeDF.query('Score == 1').std().Score\n",
    "SampleStdZero = SampleDF.query('Score == 0').std().Score\n",
    "SampleStdOne = SampleDF.query('Score == 1').std().Score"
   ]
  },
  {
   "cell_type": "code",
   "execution_count": 31,
   "metadata": {},
   "outputs": [
    {
     "data": {
      "image/png": "[encoded data removed]",
      "text/plain": [
       "<matplotlib.figure.Figure at 0x7f73bf1d9780>"
      ]
     },
     "metadata": {},
     "output_type": "display_data"
    }
   ],
   "source": [
    "N = 2\n",
    "ZeroSum = (MergeZero, SampleZero)\n",
    "OneSum = (MergeOne, SampleOne)\n",
    "ZeroStd = (MergeStdZero, SampleStdZero)\n",
    "OneStd = (MergeStdOne, SampleStdOne)\n",
    "ind = np.arange(N)    # the x locations for the groups\n",
    "width = 0.8    # the width of the bars: can also be len(x) sequence\n",
    "\n",
    "p1 = plt.bar(ind, ZeroSum, width, yerr=ZeroStd)\n",
    "p2 = plt.bar(ind, OneSum, width, bottom=ZeroSum, yerr=OneStd)\n",
    "\n",
    "plt.ylabel('Total Data')\n",
    "plt.title('Comparison between DataFrame')\n",
    "plt.xticks(ind, ('MergeDF', 'SampleMeans'))\n",
    "plt.yticks(np.arange(0, 5001, 1000))\n",
    "plt.legend((p1[0], p2[0]), ('0 Negative', '1 Positive'))\n",
    "\n",
    "plt.show()"
   ]
  },
  {
   "cell_type": "markdown",
   "metadata": {},
   "source": [
    "#### Note that the ratio of Positive & Negative Sentence still the same after sampling"
   ]
  },
  {
   "cell_type": "markdown",
   "metadata": {},
   "source": [
    "<hr>"
   ]
  },
  {
   "cell_type": "markdown",
   "metadata": {},
   "source": [
    "### 5.2 Feature Creation\n",
    "#### Here at this step we are trying to add more feature to our dataframe by adding tokenized sentence"
   ]
  },
  {
   "cell_type": "code",
   "execution_count": 32,
   "metadata": {
    "collapsed": true
   },
   "outputs": [],
   "source": [
    "# Original function from news_data_mining.ipynb\n",
    "def tokenize_text(text, remove_stopwords=False):\n",
    "    \"\"\"\n",
    "    Tokenize text using the nltk library\n",
    "    \"\"\"\n",
    "    tokens = []\n",
    "    for d in nltk.sent_tokenize(text, language='english'):\n",
    "        for word in nltk.word_tokenize(d, language='english'):\n",
    "            # filters here\n",
    "            tokens.append(word)\n",
    "    return tokens"
   ]
  },
  {
   "cell_type": "code",
   "execution_count": 33,
   "metadata": {
    "collapsed": true
   },
   "outputs": [],
   "source": [
    "# Run this to fix Resource 'tokenizers/punkt/PY3/english.pickle' not found.\n",
    "# nltk.download('punkt')\n",
    "\n",
    "# takes a like a minute or two to process\n",
    "SampleDF['unigrams'] = SampleDF['Sentence'].apply(lambda x: tokenize_text(x))"
   ]
  },
  {
   "cell_type": "code",
   "execution_count": 34,
   "metadata": {},
   "outputs": [
    {
     "data": {
      "text/plain": [
       "614    [the, worst, phone, from, samsung, ..., crap, ...\n",
       "265                   [Battery, life, is, real, good, .]\n",
       "330    [The, servers, are, not, pleasant, to, deal, w...\n",
       "422    [Oh, and, I, forgot, to, also, mention, the, w...\n",
       "Name: unigrams, dtype: object"
      ]
     },
     "execution_count": 34,
     "metadata": {},
     "output_type": "execute_result"
    }
   ],
   "source": [
    "# This is the result of our new created feature called unigrams\n",
    "SampleDF[0:4][\"unigrams\"]"
   ]
  },
  {
   "cell_type": "code",
   "execution_count": 35,
   "metadata": {},
   "outputs": [
    {
     "data": {
      "text/html": [
       "<div>\n",
       "<table border=\"1\" class=\"dataframe\">\n",
       "  <thead>\n",
       "    <tr style=\"text-align: right;\">\n",
       "      <th></th>\n",
       "      <th>Sentence</th>\n",
       "      <th>Score</th>\n",
       "      <th>datasource</th>\n",
       "      <th>unigrams</th>\n",
       "    </tr>\n",
       "  </thead>\n",
       "  <tbody>\n",
       "    <tr>\n",
       "      <th>614</th>\n",
       "      <td>the worst phone from samsung...crap..... this ...</td>\n",
       "      <td>0</td>\n",
       "      <td>amazon</td>\n",
       "      <td>[the, worst, phone, from, samsung, ..., crap, ...</td>\n",
       "    </tr>\n",
       "    <tr>\n",
       "      <th>265</th>\n",
       "      <td>Battery life is real good.</td>\n",
       "      <td>1</td>\n",
       "      <td>amazon</td>\n",
       "      <td>[Battery, life, is, real, good, .]</td>\n",
       "    </tr>\n",
       "    <tr>\n",
       "      <th>330</th>\n",
       "      <td>The servers are not pleasant to deal with and ...</td>\n",
       "      <td>0</td>\n",
       "      <td>yelp</td>\n",
       "      <td>[The, servers, are, not, pleasant, to, deal, w...</td>\n",
       "    </tr>\n",
       "    <tr>\n",
       "      <th>422</th>\n",
       "      <td>Oh and I forgot to also mention the weird colo...</td>\n",
       "      <td>0</td>\n",
       "      <td>amazon</td>\n",
       "      <td>[Oh, and, I, forgot, to, also, mention, the, w...</td>\n",
       "    </tr>\n",
       "  </tbody>\n",
       "</table>\n",
       "</div>"
      ],
      "text/plain": [
       "                                              Sentence  Score datasource  \\\n",
       "614  the worst phone from samsung...crap..... this ...      0     amazon   \n",
       "265                         Battery life is real good.      1     amazon   \n",
       "330  The servers are not pleasant to deal with and ...      0       yelp   \n",
       "422  Oh and I forgot to also mention the weird colo...      0     amazon   \n",
       "\n",
       "                                              unigrams  \n",
       "614  [the, worst, phone, from, samsung, ..., crap, ...  \n",
       "265                 [Battery, life, is, real, good, .]  \n",
       "330  [The, servers, are, not, pleasant, to, deal, w...  \n",
       "422  [Oh, and, I, forgot, to, also, mention, the, w...  "
      ]
     },
     "execution_count": 35,
     "metadata": {},
     "output_type": "execute_result"
    }
   ],
   "source": [
    "# The current Dataframe Header\n",
    "SampleDF[0:4]"
   ]
  },
  {
   "cell_type": "markdown",
   "metadata": {},
   "source": [
    "<hr>"
   ]
  },
  {
   "cell_type": "markdown",
   "metadata": {},
   "source": [
    "### 5.3 Feature Subset Selection"
   ]
  },
  {
   "cell_type": "code",
   "execution_count": 36,
   "metadata": {},
   "outputs": [],
   "source": [
    "# transform the sentence into a term-document matrix (using default CountVectorizer() function)\n",
    "count_vect = CountVectorizer()\n",
    "X_counts = count_vect.fit_transform(SampleDF.Sentence)"
   ]
  },
  {
   "cell_type": "code",
   "execution_count": 37,
   "metadata": {},
   "outputs": [
    {
     "data": {
      "text/plain": [
       "['good', 'product', 'good', 'seller']"
      ]
     },
     "execution_count": 37,
     "metadata": {},
     "output_type": "execute_result"
    }
   ],
   "source": [
    "# Analyzing the result\n",
    "analyze = count_vect.build_analyzer()\n",
    "analyze(\" \".join(list(SampleDF[4:5].Sentence)))"
   ]
  },
  {
   "cell_type": "code",
   "execution_count": 38,
   "metadata": {},
   "outputs": [
    {
     "data": {
      "text/plain": [
       "'Good product, good seller.'"
      ]
     },
     "execution_count": 38,
     "metadata": {},
     "output_type": "execute_result"
    }
   ],
   "source": [
    "# Joining all the token back together for previewing\n",
    "\" \".join(list(SampleDF[4:5].Sentence))"
   ]
  },
  {
   "cell_type": "code",
   "execution_count": 39,
   "metadata": {},
   "outputs": [
    {
     "data": {
      "text/plain": [
       "(746, 2280)"
      ]
     },
     "execution_count": 39,
     "metadata": {},
     "output_type": "execute_result"
    }
   ],
   "source": [
    "# We can check the shape of this matrix by:\n",
    "X_counts.shape"
   ]
  },
  {
   "cell_type": "code",
   "execution_count": 40,
   "metadata": {},
   "outputs": [
    {
     "data": {
      "text/plain": [
       "['10', '100', '11', '13', '17', '18', '1948', '1949', '1979', '1980']"
      ]
     },
     "execution_count": 40,
     "metadata": {},
     "output_type": "execute_result"
    }
   ],
   "source": [
    "# We can obtain the feature names of the vectorizer, i.e., the terms\n",
    "count_vect.get_feature_names()[0:10]"
   ]
  },
  {
   "cell_type": "code",
   "execution_count": 41,
   "metadata": {},
   "outputs": [
    {
     "data": {
      "text/html": [
       "<div>\n",
       "<table border=\"1\" class=\"dataframe\">\n",
       "  <thead>\n",
       "    <tr style=\"text-align: right;\">\n",
       "      <th></th>\n",
       "      <th>Sentence</th>\n",
       "      <th>Score</th>\n",
       "      <th>datasource</th>\n",
       "      <th>unigrams</th>\n",
       "    </tr>\n",
       "  </thead>\n",
       "  <tbody>\n",
       "    <tr>\n",
       "      <th>614</th>\n",
       "      <td>the worst phone from samsung...crap..... this ...</td>\n",
       "      <td>0</td>\n",
       "      <td>amazon</td>\n",
       "      <td>[the, worst, phone, from, samsung, ..., crap, ...</td>\n",
       "    </tr>\n",
       "    <tr>\n",
       "      <th>265</th>\n",
       "      <td>Battery life is real good.</td>\n",
       "      <td>1</td>\n",
       "      <td>amazon</td>\n",
       "      <td>[Battery, life, is, real, good, .]</td>\n",
       "    </tr>\n",
       "    <tr>\n",
       "      <th>330</th>\n",
       "      <td>The servers are not pleasant to deal with and ...</td>\n",
       "      <td>0</td>\n",
       "      <td>yelp</td>\n",
       "      <td>[The, servers, are, not, pleasant, to, deal, w...</td>\n",
       "    </tr>\n",
       "    <tr>\n",
       "      <th>422</th>\n",
       "      <td>Oh and I forgot to also mention the weird colo...</td>\n",
       "      <td>0</td>\n",
       "      <td>amazon</td>\n",
       "      <td>[Oh, and, I, forgot, to, also, mention, the, w...</td>\n",
       "    </tr>\n",
       "    <tr>\n",
       "      <th>280</th>\n",
       "      <td>Good product, good seller.</td>\n",
       "      <td>1</td>\n",
       "      <td>amazon</td>\n",
       "      <td>[Good, product, ,, good, seller, .]</td>\n",
       "    </tr>\n",
       "  </tbody>\n",
       "</table>\n",
       "</div>"
      ],
      "text/plain": [
       "                                              Sentence  Score datasource  \\\n",
       "614  the worst phone from samsung...crap..... this ...      0     amazon   \n",
       "265                         Battery life is real good.      1     amazon   \n",
       "330  The servers are not pleasant to deal with and ...      0       yelp   \n",
       "422  Oh and I forgot to also mention the weird colo...      0     amazon   \n",
       "280                         Good product, good seller.      1     amazon   \n",
       "\n",
       "                                              unigrams  \n",
       "614  [the, worst, phone, from, samsung, ..., crap, ...  \n",
       "265                 [Battery, life, is, real, good, .]  \n",
       "330  [The, servers, are, not, pleasant, to, deal, w...  \n",
       "422  [Oh, and, I, forgot, to, also, mention, the, w...  \n",
       "280                [Good, product, ,, good, seller, .]  "
      ]
     },
     "execution_count": 41,
     "metadata": {},
     "output_type": "execute_result"
    }
   ],
   "source": [
    "# What the dataframe looks like so far\n",
    "SampleDF[0:5]"
   ]
  },
  {
   "cell_type": "code",
   "execution_count": 42,
   "metadata": {},
   "outputs": [
    {
     "data": {
      "text/plain": [
       "array([[0, 0, 0, 0, 0, 0, 0, 0, 0, 0, 0, 0, 0, 0, 0, 0, 0, 0, 0, 0, 0, 0,\n",
       "        0, 0, 0, 0, 0, 0, 0, 0, 0, 0, 0, 0, 0, 0, 0, 0, 0, 0, 0, 0, 0, 0,\n",
       "        0, 0, 0, 0, 0, 0, 0, 0, 0, 0, 0, 0, 0, 0, 0, 0, 0, 0, 0, 0, 0, 0,\n",
       "        0, 0, 0, 0, 0, 0, 0, 0, 0, 0, 0, 0, 0, 0, 0, 0, 0, 0, 0, 0, 0, 0,\n",
       "        0, 0, 0, 0, 0, 0, 0, 0, 0, 0, 0, 0],\n",
       "       [0, 0, 0, 0, 0, 0, 0, 0, 0, 0, 0, 0, 0, 0, 0, 0, 0, 0, 0, 0, 0, 0,\n",
       "        0, 0, 0, 0, 0, 0, 0, 0, 0, 0, 0, 0, 0, 0, 0, 0, 0, 0, 0, 0, 0, 0,\n",
       "        0, 0, 0, 0, 0, 0, 0, 0, 0, 0, 0, 0, 0, 0, 0, 0, 0, 0, 0, 0, 0, 0,\n",
       "        0, 0, 0, 0, 0, 0, 0, 0, 0, 0, 0, 0, 0, 0, 0, 0, 0, 0, 0, 0, 0, 0,\n",
       "        0, 0, 0, 0, 0, 0, 0, 0, 0, 0, 0, 0],\n",
       "       [0, 0, 0, 0, 0, 0, 0, 0, 0, 0, 0, 0, 0, 0, 0, 0, 0, 0, 0, 0, 0, 0,\n",
       "        0, 0, 0, 0, 0, 0, 0, 0, 0, 0, 0, 0, 0, 0, 0, 0, 0, 0, 0, 0, 0, 0,\n",
       "        0, 0, 0, 0, 0, 0, 0, 0, 0, 0, 0, 0, 0, 0, 0, 0, 0, 0, 0, 0, 0, 0,\n",
       "        0, 0, 0, 0, 0, 0, 0, 0, 0, 0, 0, 0, 0, 0, 0, 0, 0, 1, 0, 0, 0, 0,\n",
       "        0, 0, 0, 0, 0, 0, 0, 1, 0, 0, 0, 0],\n",
       "       [0, 0, 0, 0, 0, 0, 0, 0, 0, 0, 0, 0, 0, 0, 0, 0, 0, 0, 0, 0, 0, 0,\n",
       "        0, 0, 0, 0, 0, 0, 0, 0, 0, 0, 0, 0, 0, 0, 0, 0, 0, 0, 0, 0, 0, 0,\n",
       "        0, 0, 0, 0, 0, 0, 0, 0, 0, 0, 0, 0, 0, 0, 0, 0, 0, 0, 0, 0, 0, 0,\n",
       "        0, 0, 0, 0, 0, 0, 0, 0, 0, 0, 0, 0, 0, 0, 0, 1, 0, 0, 0, 0, 0, 0,\n",
       "        0, 0, 0, 0, 0, 0, 0, 1, 0, 0, 0, 0],\n",
       "       [0, 0, 0, 0, 0, 0, 0, 0, 0, 0, 0, 0, 0, 0, 0, 0, 0, 0, 0, 0, 0, 0,\n",
       "        0, 0, 0, 0, 0, 0, 0, 0, 0, 0, 0, 0, 0, 0, 0, 0, 0, 0, 0, 0, 0, 0,\n",
       "        0, 0, 0, 0, 0, 0, 0, 0, 0, 0, 0, 0, 0, 0, 0, 0, 0, 0, 0, 0, 0, 0,\n",
       "        0, 0, 0, 0, 0, 0, 0, 0, 0, 0, 0, 0, 0, 0, 0, 0, 0, 0, 0, 0, 0, 0,\n",
       "        0, 0, 0, 0, 0, 0, 0, 0, 0, 0, 0, 0]])"
      ]
     },
     "execution_count": 42,
     "metadata": {},
     "output_type": "execute_result"
    }
   ],
   "source": [
    "# Visualize the matrix (its so sparse with 0 data)\n",
    "X_counts[0:5,0:100].toarray()"
   ]
  },
  {
   "cell_type": "code",
   "execution_count": 43,
   "metadata": {},
   "outputs": [
    {
     "data": {
      "text/plain": [
       "True"
      ]
     },
     "execution_count": 43,
     "metadata": {},
     "output_type": "execute_result"
    }
   ],
   "source": [
    "# Testing out the function\n",
    "VectorA = count_vect.transform(['Something completely new.']).toarray()\n",
    "VectorB = count_vect.transform(['00 Something completely new. ']).toarray()\n",
    "\n",
    "# Comparing if two vector are same or not\n",
    "(VectorA==VectorB).all()"
   ]
  },
  {
   "cell_type": "markdown",
   "metadata": {},
   "source": [
    "#### Not sure why the result above is True, it supposedly to be False <br>"
   ]
  },
  {
   "cell_type": "code",
   "execution_count": 44,
   "metadata": {
    "collapsed": true
   },
   "outputs": [],
   "source": [
    "# Trying to visualize the term using plot heat map\n",
    "plot_x = [\"term_\"+str(i) for i in count_vect.get_feature_names()[0:20]]"
   ]
  },
  {
   "cell_type": "code",
   "execution_count": 45,
   "metadata": {},
   "outputs": [
    {
     "data": {
      "text/plain": [
       "['term_10',\n",
       " 'term_100',\n",
       " 'term_11',\n",
       " 'term_13',\n",
       " 'term_17',\n",
       " 'term_18',\n",
       " 'term_1948',\n",
       " 'term_1949',\n",
       " 'term_1979',\n",
       " 'term_1980',\n",
       " 'term_1995',\n",
       " 'term_20',\n",
       " 'term_2006',\n",
       " 'term_20th',\n",
       " 'term_23',\n",
       " 'term_30',\n",
       " 'term_375',\n",
       " 'term_40',\n",
       " 'term_45',\n",
       " 'term_50']"
      ]
     },
     "execution_count": 45,
     "metadata": {},
     "output_type": "execute_result"
    }
   ],
   "source": [
    "plot_x"
   ]
  },
  {
   "cell_type": "code",
   "execution_count": 46,
   "metadata": {
    "collapsed": true
   },
   "outputs": [],
   "source": [
    "plot_y = [\"doc_\"+ str(i) for i in list(SampleDF.index)[0:20]]"
   ]
  },
  {
   "cell_type": "code",
   "execution_count": 47,
   "metadata": {
    "collapsed": true
   },
   "outputs": [],
   "source": [
    "plot_z = X_counts[0:20, 0:20].toarray()"
   ]
  },
  {
   "cell_type": "code",
   "execution_count": 48,
   "metadata": {
    "collapsed": true
   },
   "outputs": [],
   "source": [
    "# Original function from news_data_mining.ipynb\n",
    "def plot_heat_map(plot_x, plot_y, plot_z):\n",
    "    \"\"\" Helper to plot heat map \"\"\"\n",
    "    trace = {\n",
    "        \"x\": plot_x,\n",
    "        \"y\": plot_y,\n",
    "        \"z\": plot_z,\n",
    "        \"colorscale\": [[0.0, \"rgb(158,1,66)\"], [0.1, \"rgb(213,62,79)\"], [0.2, \"rgb(244,109,67)\"], [0.3, \"rgb(253,174,97)\"], [0.4, \"rgb(254,224,139)\"], [0.5, \"rgb(255,255,191)\"], [0.6, \"rgb(230,245,152)\"], [0.7, \"rgb(171,221,164)\"], [0.8, \"rgb(102,194,165)\"], [0.9, \"rgb(50,136,189)\"], [1.0, \"rgb(94,79,162)\"]],\n",
    "        \"type\": \"heatmap\"\n",
    "    }\n",
    "\n",
    "    data = go.Data([trace])\n",
    "    layout = {\n",
    "        \"legend\": {\n",
    "            \"bgcolor\": \"#F5F6F9\",\n",
    "            \"font\": {\"color\": \"#4D5663\"}\n",
    "        },\n",
    "        \"paper_bgcolor\": \"#F5F6F9\",\n",
    "        \"plot_bgcolor\": \"#F5F6F9\",\n",
    "        \"xaxis1\": {\n",
    "            \"gridcolor\": \"#E1E5ED\",\n",
    "            \"tickfont\": {\"color\": \"#4D5663\"},\n",
    "            \"title\": \"\",\n",
    "            \"titlefont\": {\"color\": \"#4D5663\"},\n",
    "            \"zerolinecolor\": \"#E1E5ED\"\n",
    "        },\n",
    "        \"yaxis1\": {\n",
    "            \"gridcolor\": \"#E1E5ED\",\n",
    "            \"tickfont\": {\"color\": \"#4D5663\"},\n",
    "            \"title\": \"\",\n",
    "            \"titlefont\": {\"color\": \"#4D5663\"},\n",
    "            \"zeroline\": False,\n",
    "            \"zerolinecolor\": \"#E1E5ED\"\n",
    "        }\n",
    "    }\n",
    "\n",
    "    fig = go.Figure(data = data, layout=layout)\n",
    "    return fig"
   ]
  },
  {
   "cell_type": "code",
   "execution_count": 49,
   "metadata": {},
   "outputs": [
    {
     "data": {
      "text/html": [
       "<iframe id=\"igraph\" scrolling=\"no\" style=\"border:none;\" seamless=\"seamless\" src=\"https://plot.ly/~DataMiningNTHU/86.embed\" height=\"525px\" width=\"100%\"></iframe>"
      ],
      "text/plain": [
       "<plotly.tools.PlotlyDisplay object>"
      ]
     },
     "execution_count": 49,
     "metadata": {},
     "output_type": "execute_result"
    }
   ],
   "source": [
    "# Draw the plot\n",
    "py.iplot(plot_heat_map(plot_x, plot_y, plot_z), filename='plotly-1')"
   ]
  },
  {
   "cell_type": "markdown",
   "metadata": {},
   "source": [
    "\n",
    "#### Exercise 3: From the chart above, we can see how sparse the term-document matrix is; i.e., there is only one terms with frequency of 1 in the subselection of the matrix. By the way, you may have noticed that we only selected 20 articles and 20 terms to plot the histrogram. As an excersise you can try to modify the code above to plot the entire term-document matrix or just a sample of it.\n",
    "\n",
    "The great thing about what we have done so far is that we now open doors to new problems. Let us be optimistic. Even though we have the problem of sparsity and a very high dimensional data, we are now closer to uncovering wonders from the data. You see, the price you pay for the hard work is worth it because now you are gaining a lot of knowledge from what was just a list of what appeared to be irrelevant articles. Just the fact that you can blow up the data and find out interesting characteristics about the dataset in just a couple lines of code, is something that truly inspires me to practise Data Science. That's the motivation right there!"
   ]
  },
  {
   "cell_type": "code",
   "execution_count": 50,
   "metadata": {},
   "outputs": [
    {
     "name": "stdout",
     "output_type": "stream",
     "text": [
      "The draw time for this plot will be slow for all clients.\n"
     ]
    },
    {
     "data": {
      "text/html": [
       "<iframe id=\"igraph\" scrolling=\"no\" style=\"border:none;\" seamless=\"seamless\" src=\"https://plot.ly/~DataMiningNTHU/72.embed\" height=\"525px\" width=\"100%\"></iframe>"
      ],
      "text/plain": [
       "<plotly.tools.PlotlyDisplay object>"
      ]
     },
     "execution_count": 50,
     "metadata": {},
     "output_type": "execute_result"
    }
   ],
   "source": [
    "# Whole SampleDF\n",
    "plot_x = [\"term_\"+str(i) for i in count_vect.get_feature_names()[0::]]\n",
    "plot_y = [\"doc_\"+ str(i) for i in list(SampleDF.index)[0::]]\n",
    "plot_z = X_counts[0::, 0::].toarray()\n",
    "\n",
    "py.iplot(plot_heat_map(plot_x, plot_y, plot_z), filename='plotly-2')"
   ]
  },
  {
   "cell_type": "markdown",
   "metadata": {},
   "source": [
    "<hr>"
   ]
  },
  {
   "cell_type": "markdown",
   "metadata": {},
   "source": [
    "### 5.4 Dimensionality Reduction\n",
    "#### Score value is already in 1 dimentional, no need to do the dimesionality reduction"
   ]
  },
  {
   "cell_type": "code",
   "execution_count": 51,
   "metadata": {},
   "outputs": [
    {
     "data": {
      "text/plain": [
       "(746, 3)"
      ]
     },
     "execution_count": 51,
     "metadata": {},
     "output_type": "execute_result"
    }
   ],
   "source": [
    "X_reduced = PCA(n_components=3).fit_transform(X_counts.toarray())\n",
    "X_reduced.shape"
   ]
  },
  {
   "cell_type": "code",
   "execution_count": 52,
   "metadata": {
    "collapsed": true
   },
   "outputs": [],
   "source": [
    "# Original function from news_data_mining.ipynb\n",
    "def get_trace(X_pca, data, category, color):\n",
    "    \"\"\" Build trace for plotly chart based on category \"\"\"\n",
    "    trace = go.Scatter3d(\n",
    "        x=X_pca[data.apply(lambda x: True if x==category else False), 0],\n",
    "        y=X_pca[data.apply(lambda x: True if x==category else False),1],\n",
    "        z=X_pca[data.apply(lambda x: True if x==category else False),2],\n",
    "        mode='markers',\n",
    "        marker=dict(\n",
    "            size=4,\n",
    "            line=dict(\n",
    "                color=color,\n",
    "                width=0.2\n",
    "            ),\n",
    "            opacity=0.8\n",
    "        ),\n",
    "        text=data[data.apply(lambda x: True if x==category else False).tolist()]\n",
    "    )\n",
    "    return trace"
   ]
  },
  {
   "cell_type": "code",
   "execution_count": 67,
   "metadata": {},
   "outputs": [
    {
     "data": {
      "text/html": [
       "<iframe id=\"igraph\" scrolling=\"no\" style=\"border:none;\" seamless=\"seamless\" src=\"https://plot.ly/~DataMiningNTHU/78.embed\" height=\"525px\" width=\"100%\"></iframe>"
      ],
      "text/plain": [
       "<plotly.tools.PlotlyDisplay object>"
      ]
     },
     "execution_count": 67,
     "metadata": {},
     "output_type": "execute_result"
    }
   ],
   "source": [
    "trace1 = get_trace(X_reduced, SampleDF[\"datasource\"], \"amazon\", \"rgb(71,233,163)\")\n",
    "trace2 = get_trace(X_reduced, SampleDF[\"datasource\"], \"imdb\", \"rgb(52,133,252)\")\n",
    "trace3 = get_trace(X_reduced, SampleDF[\"datasource\"], \"yelp\", \"rgb(229,65,136)\")\n",
    "data = [trace1, trace2, trace3]\n",
    "\n",
    "\n",
    "layout = go.Layout(\n",
    "    margin=dict(\n",
    "        l=0,\n",
    "        r=0,\n",
    "        b=0,\n",
    "        t=0\n",
    "    )\n",
    ")\n",
    "fig = go.Figure(data=data, layout=layout)\n",
    "py.iplot(fig, filename='plotly-3')"
   ]
  },
  {
   "cell_type": "markdown",
   "metadata": {},
   "source": [
    "<hr>"
   ]
  },
  {
   "cell_type": "markdown",
   "metadata": {},
   "source": [
    "### 5.5 Atrribute Transformation / Aggregation"
   ]
  },
  {
   "cell_type": "code",
   "execution_count": 54,
   "metadata": {
    "collapsed": true
   },
   "outputs": [],
   "source": [
    "# note this takes time to compute. You may want to reduce the amount of terms you want to compute frequencies for\n",
    "term_frequencies = []\n",
    "for j in range(0,X_counts.shape[1]):\n",
    "    term_frequencies.append(sum(X_counts[:,j].toarray()))"
   ]
  },
  {
   "cell_type": "code",
   "execution_count": 55,
   "metadata": {},
   "outputs": [
    {
     "data": {
      "text/plain": [
       "array([6])"
      ]
     },
     "execution_count": 55,
     "metadata": {},
     "output_type": "execute_result"
    }
   ],
   "source": [
    "term_frequencies[0]"
   ]
  },
  {
   "cell_type": "code",
   "execution_count": 56,
   "metadata": {
    "collapsed": true
   },
   "outputs": [],
   "source": [
    "def plot_word_frequency(word_list, plot_title):\n",
    "    trace1 = {\n",
    "        \"x\": list(word_list[0]),\n",
    "        \"y\": list(word_list[1]),\n",
    "        \"type\": \"bar\"\n",
    "    }\n",
    "\n",
    "    data = go.Data([trace1])\n",
    "\n",
    "    layout = {\n",
    "        \"title\": plot_title,\n",
    "        \"yaxis\": {\"title\": \"Frequency\"}\n",
    "    }\n",
    "\n",
    "    fig = go.Figure(data = data, layout=layout)\n",
    "    return fig"
   ]
  },
  {
   "cell_type": "code",
   "execution_count": 57,
   "metadata": {},
   "outputs": [
    {
     "data": {
      "text/html": [
       "<iframe id=\"igraph\" scrolling=\"no\" style=\"border:none;\" seamless=\"seamless\" src=\"https://plot.ly/~DataMiningNTHU/80.embed\" height=\"525px\" width=\"100%\"></iframe>"
      ],
      "text/plain": [
       "<plotly.tools.PlotlyDisplay object>"
      ]
     },
     "execution_count": 57,
     "metadata": {},
     "output_type": "execute_result"
    }
   ],
   "source": [
    "py.iplot(plot_word_frequency([count_vect.get_feature_names(), term_frequencies], \"Term Frequency Distribution\"), filename='plotly-4')"
   ]
  },
  {
   "cell_type": "markdown",
   "metadata": {},
   "source": [
    "#### Exercise 4: The chart above contains all the vocabulary, and it's computationally intensive to both compute and visualize. You can try to reduce the number of terms you want to visualize as an exercise.\n",
    "\n"
   ]
  },
  {
   "cell_type": "code",
   "execution_count": 58,
   "metadata": {},
   "outputs": [
    {
     "data": {
      "text/html": [
       "<iframe id=\"igraph\" scrolling=\"no\" style=\"border:none;\" seamless=\"seamless\" src=\"https://plot.ly/~DataMiningNTHU/82.embed\" height=\"525px\" width=\"100%\"></iframe>"
      ],
      "text/plain": [
       "<plotly.tools.PlotlyDisplay object>"
      ]
     },
     "execution_count": 58,
     "metadata": {},
     "output_type": "execute_result"
    }
   ],
   "source": [
    "# Term frequency in range of 0~100\n",
    "term_frequencies = []\n",
    "for j in range(0,100):\n",
    "    term_frequencies.append(sum(X_counts[:,j].toarray()))\n",
    "    \n",
    "py.iplot(plot_word_frequency([count_vect.get_feature_names(), term_frequencies], \"Term Frequency Distribution\"), filename='plotly-5')"
   ]
  },
  {
   "cell_type": "markdown",
   "metadata": {},
   "source": [
    "#### Exercise 5: Additionally, you can attempt to sort the terms on the x-axis by frequency instead of in alphabetical order.\n",
    "Since we have those term frequencies, we can also transform the values in that vector into the log distribution. All we need is to import the math library provided by python and apply it to the array of values of the term frequency vector. This is a typical example of attribute transformation. Let's go for it. The log distribution is a technique to visualize the term frequency into a scale that makes you easily visualize the distribution in a more readable format. In other words, the discrepancies between the term frequencies are now better observable. Let us try it out."
   ]
  },
  {
   "cell_type": "code",
   "execution_count": 59,
   "metadata": {},
   "outputs": [
    {
     "data": {
      "text/html": [
       "<iframe id=\"igraph\" scrolling=\"no\" style=\"border:none;\" seamless=\"seamless\" src=\"https://plot.ly/~DataMiningNTHU/84.embed\" height=\"525px\" width=\"100%\"></iframe>"
      ],
      "text/plain": [
       "<plotly.tools.PlotlyDisplay object>"
      ]
     },
     "execution_count": 59,
     "metadata": {},
     "output_type": "execute_result"
    }
   ],
   "source": [
    "def plot_word_frequency2(word_list, plot_title):\n",
    "    trace1 = {\n",
    "        \"x\": list(word_list[0]),\n",
    "        \"y\": list(word_list[1]),\n",
    "        \"type\": \"bar\",\n",
    "        \"orientation\" : 'h'\n",
    "    }\n",
    "\n",
    "    data = go.Data([trace1])\n",
    "\n",
    "    layout = {\n",
    "        \"title\": plot_title,\n",
    "        \"xaxis\": {\"title\": \"Frequency\"}\n",
    "    }\n",
    "\n",
    "    fig = go.Figure(data = data, layout=layout)\n",
    "    return fig\n",
    "\n",
    "# Term frequency in range of 0~100\n",
    "term_frequencies = []\n",
    "for j in range(0,100):\n",
    "    term_frequencies.append(sum(X_counts[:,j].toarray()))\n",
    "\n",
    "sortedFrequency = np.sort(term_frequencies, axis=None)\n",
    "sortedFeatureName = np.sort(count_vect.get_feature_names(), axis=None)\n",
    "py.iplot(plot_word_frequency2([sortedFrequency, sortedFeatureName], \"Term Frequency Distribution\"), filename='plotly-6')"
   ]
  },
  {
   "cell_type": "code",
   "execution_count": 60,
   "metadata": {
    "collapsed": true
   },
   "outputs": [],
   "source": [
    "# Testing with 10 frequencies\n",
    "term_frequencies = []\n",
    "for j in range(0,10):\n",
    "    term_frequencies.append(sum(X_counts[:,j].toarray()))\n",
    "\n",
    "# Normalize the frequencies\n",
    "normalized = ( sortedFrequency-np.mean(sortedFrequency) ) / np.std(sortedFrequency)"
   ]
  },
  {
   "cell_type": "code",
   "execution_count": null,
   "metadata": {
    "collapsed": true
   },
   "outputs": [],
   "source": [
    "# Calculte Mean and Std\n",
    "mu, sigma = np.mean(normalized), np.std(normalized)\n",
    "s = np.random.lognormal(mu, sigma, 1000)\n",
    "\n",
    "count, bins, ignored = plt.hist(s, 100, normed=True, align='mid')\n",
    "x = np.linspace(min(bins), max(bins), 10000)\n",
    "\n",
    "pdf = (np.exp(-(np.log(x) - mu)**2 / (2 * sigma**2))/ (x * sigma * np.sqrt(2 * np.pi)))\n",
    "\n",
    "plt.plot(x, pdf, linewidth=2, color='r')\n",
    "plt.axis('tight')\n",
    "plt.xlabel('Frequency')\n",
    "\n",
    "# Enable xtics text [Still Bugged]\n",
    "plt.xticks((term_frequencies), (count_vect.get_feature_names()), rotation='vertical')\n",
    "plt.show()"
   ]
  },
  {
   "cell_type": "markdown",
   "metadata": {},
   "source": [
    "<hr>"
   ]
  },
  {
   "cell_type": "markdown",
   "metadata": {},
   "source": [
    "### 5.6 Discretization and Binarization\n",
    "#### Since the \"Score\" column of the data is already discrete value also in form of Binary, 0 for Negative and 1 for Positive, we dont need to do this part, so for this demonstration we use the sourcedata instead"
   ]
  },
  {
   "cell_type": "code",
   "execution_count": 62,
   "metadata": {},
   "outputs": [
    {
     "data": {
      "text/plain": [
       "LabelBinarizer(neg_label=0, pos_label=1, sparse_output=False)"
      ]
     },
     "execution_count": 62,
     "metadata": {},
     "output_type": "execute_result"
    }
   ],
   "source": [
    "mlb = preprocessing.LabelBinarizer()\n",
    "mlb.fit(SampleDF.datasource)"
   ]
  },
  {
   "cell_type": "code",
   "execution_count": 63,
   "metadata": {},
   "outputs": [
    {
     "data": {
      "text/plain": [
       "array(['amazon', 'imdb', 'yelp'], \n",
       "      dtype='<U6')"
      ]
     },
     "execution_count": 63,
     "metadata": {},
     "output_type": "execute_result"
    }
   ],
   "source": [
    "mlb.classes_"
   ]
  },
  {
   "cell_type": "code",
   "execution_count": 64,
   "metadata": {
    "collapsed": true
   },
   "outputs": [],
   "source": [
    "SampleDF['Bin_Category'] = mlb.transform(SampleDF['datasource']).tolist()"
   ]
  },
  {
   "cell_type": "code",
   "execution_count": 65,
   "metadata": {},
   "outputs": [
    {
     "data": {
      "text/html": [
       "<div>\n",
       "<table border=\"1\" class=\"dataframe\">\n",
       "  <thead>\n",
       "    <tr style=\"text-align: right;\">\n",
       "      <th></th>\n",
       "      <th>Sentence</th>\n",
       "      <th>Score</th>\n",
       "      <th>datasource</th>\n",
       "      <th>unigrams</th>\n",
       "      <th>Bin_Category</th>\n",
       "    </tr>\n",
       "  </thead>\n",
       "  <tbody>\n",
       "    <tr>\n",
       "      <th>614</th>\n",
       "      <td>the worst phone from samsung...crap..... this ...</td>\n",
       "      <td>0</td>\n",
       "      <td>amazon</td>\n",
       "      <td>[the, worst, phone, from, samsung, ..., crap, ...</td>\n",
       "      <td>[1, 0, 0]</td>\n",
       "    </tr>\n",
       "    <tr>\n",
       "      <th>265</th>\n",
       "      <td>Battery life is real good.</td>\n",
       "      <td>1</td>\n",
       "      <td>amazon</td>\n",
       "      <td>[Battery, life, is, real, good, .]</td>\n",
       "      <td>[1, 0, 0]</td>\n",
       "    </tr>\n",
       "    <tr>\n",
       "      <th>330</th>\n",
       "      <td>The servers are not pleasant to deal with and ...</td>\n",
       "      <td>0</td>\n",
       "      <td>yelp</td>\n",
       "      <td>[The, servers, are, not, pleasant, to, deal, w...</td>\n",
       "      <td>[0, 0, 1]</td>\n",
       "    </tr>\n",
       "    <tr>\n",
       "      <th>422</th>\n",
       "      <td>Oh and I forgot to also mention the weird colo...</td>\n",
       "      <td>0</td>\n",
       "      <td>amazon</td>\n",
       "      <td>[Oh, and, I, forgot, to, also, mention, the, w...</td>\n",
       "      <td>[1, 0, 0]</td>\n",
       "    </tr>\n",
       "    <tr>\n",
       "      <th>280</th>\n",
       "      <td>Good product, good seller.</td>\n",
       "      <td>1</td>\n",
       "      <td>amazon</td>\n",
       "      <td>[Good, product, ,, good, seller, .]</td>\n",
       "      <td>[1, 0, 0]</td>\n",
       "    </tr>\n",
       "  </tbody>\n",
       "</table>\n",
       "</div>"
      ],
      "text/plain": [
       "                                              Sentence  Score datasource  \\\n",
       "614  the worst phone from samsung...crap..... this ...      0     amazon   \n",
       "265                         Battery life is real good.      1     amazon   \n",
       "330  The servers are not pleasant to deal with and ...      0       yelp   \n",
       "422  Oh and I forgot to also mention the weird colo...      0     amazon   \n",
       "280                         Good product, good seller.      1     amazon   \n",
       "\n",
       "                                              unigrams Bin_Category  \n",
       "614  [the, worst, phone, from, samsung, ..., crap, ...    [1, 0, 0]  \n",
       "265                 [Battery, life, is, real, good, .]    [1, 0, 0]  \n",
       "330  [The, servers, are, not, pleasant, to, deal, w...    [0, 0, 1]  \n",
       "422  [Oh, and, I, forgot, to, also, mention, the, w...    [1, 0, 0]  \n",
       "280                [Good, product, ,, good, seller, .]    [1, 0, 0]  "
      ]
     },
     "execution_count": 65,
     "metadata": {},
     "output_type": "execute_result"
    }
   ],
   "source": [
    "SampleDF[0:5]"
   ]
  },
  {
   "cell_type": "markdown",
   "metadata": {},
   "source": [
    "<br>"
   ]
  },
  {
   "cell_type": "markdown",
   "metadata": {},
   "source": [
    "<br>\n",
    "# Finish"
   ]
  }
 ],
 "metadata": {
  "kernelspec": {
   "display_name": "DM-HW1",
   "language": "python",
   "name": "datamininghw1"
  },
  "language_info": {
   "codemirror_mode": {
    "name": "ipython",
    "version": 3
   },
   "file_extension": ".py",
   "mimetype": "text/x-python",
   "name": "python",
   "nbconvert_exporter": "python",
   "pygments_lexer": "ipython3",
   "version": "3.4.5"
  }
 },
 "nbformat": 4,
 "nbformat_minor": 2
}
